{
 "cells": [
  {
   "cell_type": "markdown",
   "metadata": {},
   "source": [
    "# Bayesian Breast Cancer classifier using MCDropout Bayesian approximation\n",
    "\n",
    "The input consists of gene expression levels of a patient (vector of numbers), the label consists of the patient breast cancer subtype: LUMINAL A or LUMINAL B.\n",
    "Implement a simple MLP classifier with MCDropout approximation to get for each test patient the class label and the class probability."
   ]
  },
  {
   "cell_type": "code",
   "execution_count": 359,
   "metadata": {},
   "outputs": [],
   "source": [
    "import pandas as pd\n",
    "from sklearn.model_selection import train_test_split\n",
    "from sklearn.preprocessing import StandardScaler, OneHotEncoder\n",
    "import numpy as np\n",
    "import keras\n",
    "\n",
    "dataset = pd.read_csv('dataset_LUMINAL_A_B.csv')\n",
    "\n",
    "X, y = dataset.loc[:, dataset.columns != 'l'], dataset.loc[:, dataset.columns == 'l'].values.reshape(-1,1)\n",
    "\n",
    "scaler = StandardScaler()\n",
    "X = scaler.fit_transform(X)\n",
    "\n",
    "from sklearn.decomposition import PCA\n",
    "\n",
    "pca = PCA()\n",
    "#X = pca.fit_transform(X)\n",
    "\n",
    "\n",
    "encoder = OneHotEncoder(sparse_output=False)\n",
    "y = encoder.fit_transform(y)\n",
    "\n",
    "X_train, X_test, y_train, y_test = train_test_split(X, y, test_size=0.20, random_state=1)\n",
    "\n",
    "\n"
   ]
  },
  {
   "cell_type": "code",
   "execution_count": 348,
   "metadata": {},
   "outputs": [],
   "source": [
    "import numpy as np\n",
    "import keras\n",
    "from keras.models import Sequential\n",
    "from keras.layers import Dense, Dropout, Flatten"
   ]
  },
  {
   "cell_type": "code",
   "execution_count": 360,
   "metadata": {},
   "outputs": [
    {
     "name": "stdout",
     "output_type": "stream",
     "text": [
      "Epoch 1/5\n",
      "3/3 [==============================] - 0s 3ms/step - loss: 0.8342 - accuracy: 0.5625\n",
      "Epoch 2/5\n",
      "3/3 [==============================] - 0s 4ms/step - loss: 0.5444 - accuracy: 0.7750\n",
      "Epoch 3/5\n",
      "3/3 [==============================] - 0s 5ms/step - loss: 0.4286 - accuracy: 0.8625\n",
      "Epoch 4/5\n",
      "3/3 [==============================] - 0s 3ms/step - loss: 0.2897 - accuracy: 0.9125\n",
      "Epoch 5/5\n",
      "3/3 [==============================] - 0s 4ms/step - loss: 0.2282 - accuracy: 0.9375\n"
     ]
    },
    {
     "data": {
      "text/plain": [
       "<keras.callbacks.History at 0x332832ad0>"
      ]
     },
     "execution_count": 360,
     "metadata": {},
     "output_type": "execute_result"
    }
   ],
   "source": [
    "model = Sequential([\n",
    "    Dropout(0.2),\n",
    "    Dense(512, activation='relu'),\n",
    "    Dropout(0.6),\n",
    "    Dense(256, activation='relu'),\n",
    "    Dropout(0.2),\n",
    "    Dense(2, activation='sigmoid')\n",
    "])\n",
    "\n",
    "model.compile(loss='binary_crossentropy', optimizer='adam', metrics=['accuracy'])\n",
    "model.fit(X_train, y_train,epochs=5, verbose=1)\n",
    "\n"
   ]
  },
  {
   "cell_type": "code",
   "execution_count": 361,
   "metadata": {},
   "outputs": [
    {
     "name": "stdout",
     "output_type": "stream",
     "text": [
      "MC-ensemble accuracy: 90.0%\n"
     ]
    }
   ],
   "source": [
    "from sklearn.metrics import accuracy_score\n",
    "\n",
    "MC_ITERATION = 30\n",
    "acc = []\n",
    "mc_predictions = np.zeros((MC_ITERATION, X_test.shape[0], 2))\n",
    "for i in range(MC_ITERATION):\n",
    "    y_pred = model.predict(X_test, verbose=False)\n",
    "    mc_predictions[i] = y_pred\n",
    "    acc.append(accuracy_score(y_pred.argmax(axis=1), y_test.argmax(axis=1)))\n",
    "\n",
    "mc_ensemble_pred = np.array(mc_predictions).mean(axis=0)\n",
    "ensemble_acc = accuracy_score(mc_ensemble_pred.argmax(axis=1), y_test.argmax(axis=1))\n",
    "print(\"MC-ensemble accuracy: {:.1%}\".format(ensemble_acc))\n",
    "    "
   ]
  }
 ],
 "metadata": {
  "kernelspec": {
   "display_name": "deep",
   "language": "python",
   "name": "python3"
  },
  "language_info": {
   "codemirror_mode": {
    "name": "ipython",
    "version": 3
   },
   "file_extension": ".py",
   "mimetype": "text/x-python",
   "name": "python",
   "nbconvert_exporter": "python",
   "pygments_lexer": "ipython3",
   "version": "3.11.3"
  },
  "orig_nbformat": 4
 },
 "nbformat": 4,
 "nbformat_minor": 2
}
