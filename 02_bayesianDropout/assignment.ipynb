{
 "cells": [
  {
   "cell_type": "markdown",
   "metadata": {},
   "source": []
  },
  {
   "cell_type": "code",
   "execution_count": 107,
   "metadata": {},
   "outputs": [],
   "source": [
    "import pandas as pd\n",
    "from sklearn.model_selection import train_test_split\n",
    "from sklearn.preprocessing import StandardScaler, LabelEncoder, OneHotEncoder, OrdinalEncoder\n",
    "import numpy as np\n",
    "\n",
    "dataset = pd.read_csv('dataset_LUMINAL_A_B.csv')\n",
    "\n",
    "X, y = dataset.loc[:, dataset.columns != 'l'], dataset.loc[:, dataset.columns == 'l']\n",
    "\n",
    "scaler = StandardScaler()\n",
    "X = scaler.fit_transform(X)\n",
    "\n",
    "\n",
    "encoder = OrdinalEncoder()\n",
    "y = encoder.fit_transform(y)\n",
    "\n",
    "X_train, X_test, y_train, y_test = train_test_split(\n",
    "    X, y, test_size=0.2, random_state=42)\n",
    "\n",
    "\n"
   ]
  },
  {
   "cell_type": "code",
   "execution_count": 32,
   "metadata": {},
   "outputs": [],
   "source": [
    "import numpy as np\n",
    "import keras\n",
    "from keras.models import Sequential\n",
    "from keras.layers import Dense, Dropout"
   ]
  },
  {
   "cell_type": "code",
   "execution_count": 125,
   "metadata": {},
   "outputs": [
    {
     "name": "stdout",
     "output_type": "stream",
     "text": [
      "Epoch 1/50\n",
      "3/3 [==============================] - 0s 4ms/step - loss: 0.7332 - accuracy: 0.5500\n",
      "Epoch 2/50\n",
      "3/3 [==============================] - 0s 4ms/step - loss: 0.7004 - accuracy: 0.5125\n",
      "Epoch 3/50\n",
      "3/3 [==============================] - 0s 5ms/step - loss: 0.6842 - accuracy: 0.5750\n",
      "Epoch 4/50\n",
      "3/3 [==============================] - 0s 20ms/step - loss: 0.6365 - accuracy: 0.6250\n",
      "Epoch 5/50\n",
      "3/3 [==============================] - 0s 6ms/step - loss: 0.6757 - accuracy: 0.5750\n",
      "Epoch 6/50\n",
      "3/3 [==============================] - 0s 6ms/step - loss: 0.5936 - accuracy: 0.6625\n",
      "Epoch 7/50\n",
      "3/3 [==============================] - 0s 9ms/step - loss: 0.5765 - accuracy: 0.7625\n",
      "Epoch 8/50\n",
      "3/3 [==============================] - 0s 5ms/step - loss: 0.5989 - accuracy: 0.6500\n",
      "Epoch 9/50\n",
      "3/3 [==============================] - 0s 4ms/step - loss: 0.5063 - accuracy: 0.8125\n",
      "Epoch 10/50\n",
      "3/3 [==============================] - 0s 3ms/step - loss: 0.5009 - accuracy: 0.8250\n",
      "Epoch 11/50\n",
      "3/3 [==============================] - 0s 4ms/step - loss: 0.5151 - accuracy: 0.7250\n",
      "Epoch 12/50\n",
      "3/3 [==============================] - 0s 10ms/step - loss: 0.4718 - accuracy: 0.8250\n",
      "Epoch 13/50\n",
      "3/3 [==============================] - 0s 6ms/step - loss: 0.4508 - accuracy: 0.8125\n",
      "Epoch 14/50\n",
      "3/3 [==============================] - 0s 5ms/step - loss: 0.4930 - accuracy: 0.7875\n",
      "Epoch 15/50\n",
      "3/3 [==============================] - 0s 3ms/step - loss: 0.4806 - accuracy: 0.7625\n",
      "Epoch 16/50\n",
      "3/3 [==============================] - 0s 4ms/step - loss: 0.4445 - accuracy: 0.8125\n",
      "Epoch 17/50\n",
      "3/3 [==============================] - 0s 4ms/step - loss: 0.3772 - accuracy: 0.8625\n",
      "Epoch 18/50\n",
      "3/3 [==============================] - 0s 4ms/step - loss: 0.3743 - accuracy: 0.9375\n",
      "Epoch 19/50\n",
      "3/3 [==============================] - 0s 4ms/step - loss: 0.3731 - accuracy: 0.9000\n",
      "Epoch 20/50\n",
      "3/3 [==============================] - 0s 3ms/step - loss: 0.3586 - accuracy: 0.8750\n",
      "Epoch 21/50\n",
      "3/3 [==============================] - 0s 4ms/step - loss: 0.3124 - accuracy: 0.9375\n",
      "Epoch 22/50\n",
      "3/3 [==============================] - 0s 5ms/step - loss: 0.2972 - accuracy: 0.9500\n",
      "Epoch 23/50\n",
      "3/3 [==============================] - 0s 4ms/step - loss: 0.3102 - accuracy: 0.9500\n",
      "Epoch 24/50\n",
      "3/3 [==============================] - 0s 4ms/step - loss: 0.2981 - accuracy: 0.9375\n",
      "Epoch 25/50\n",
      "3/3 [==============================] - 0s 4ms/step - loss: 0.2817 - accuracy: 0.9250\n",
      "Epoch 26/50\n",
      "3/3 [==============================] - 0s 3ms/step - loss: 0.2617 - accuracy: 0.9750\n",
      "Epoch 27/50\n",
      "3/3 [==============================] - 0s 4ms/step - loss: 0.2541 - accuracy: 0.9500\n",
      "Epoch 28/50\n",
      "3/3 [==============================] - 0s 4ms/step - loss: 0.2370 - accuracy: 1.0000\n",
      "Epoch 29/50\n",
      "3/3 [==============================] - 0s 4ms/step - loss: 0.2291 - accuracy: 0.9625\n",
      "Epoch 30/50\n",
      "3/3 [==============================] - 0s 4ms/step - loss: 0.2118 - accuracy: 0.9875\n",
      "Epoch 31/50\n",
      "3/3 [==============================] - 0s 5ms/step - loss: 0.2272 - accuracy: 0.9875\n",
      "Epoch 32/50\n",
      "3/3 [==============================] - 0s 4ms/step - loss: 0.1980 - accuracy: 0.9875\n",
      "Epoch 33/50\n",
      "3/3 [==============================] - 0s 3ms/step - loss: 0.2040 - accuracy: 0.9750\n",
      "Epoch 34/50\n",
      "3/3 [==============================] - 0s 4ms/step - loss: 0.1815 - accuracy: 1.0000\n",
      "Epoch 35/50\n",
      "3/3 [==============================] - 0s 4ms/step - loss: 0.1845 - accuracy: 0.9625\n",
      "Epoch 36/50\n",
      "3/3 [==============================] - 0s 4ms/step - loss: 0.1935 - accuracy: 0.9750\n",
      "Epoch 37/50\n",
      "3/3 [==============================] - 0s 4ms/step - loss: 0.1666 - accuracy: 0.9750\n",
      "Epoch 38/50\n",
      "3/3 [==============================] - 0s 4ms/step - loss: 0.1471 - accuracy: 0.9750\n",
      "Epoch 39/50\n",
      "3/3 [==============================] - 0s 5ms/step - loss: 0.1402 - accuracy: 1.0000\n",
      "Epoch 40/50\n",
      "3/3 [==============================] - 0s 4ms/step - loss: 0.1392 - accuracy: 0.9875\n",
      "Epoch 41/50\n",
      "3/3 [==============================] - 0s 4ms/step - loss: 0.1484 - accuracy: 0.9750\n",
      "Epoch 42/50\n",
      "3/3 [==============================] - 0s 4ms/step - loss: 0.1366 - accuracy: 1.0000\n",
      "Epoch 43/50\n",
      "3/3 [==============================] - 0s 4ms/step - loss: 0.1311 - accuracy: 0.9875\n",
      "Epoch 44/50\n",
      "3/3 [==============================] - 0s 4ms/step - loss: 0.1516 - accuracy: 0.9750\n",
      "Epoch 45/50\n",
      "3/3 [==============================] - 0s 3ms/step - loss: 0.1129 - accuracy: 1.0000\n",
      "Epoch 46/50\n",
      "3/3 [==============================] - 0s 4ms/step - loss: 0.1134 - accuracy: 0.9750\n",
      "Epoch 47/50\n",
      "3/3 [==============================] - 0s 5ms/step - loss: 0.1143 - accuracy: 1.0000\n",
      "Epoch 48/50\n",
      "3/3 [==============================] - 0s 4ms/step - loss: 0.1002 - accuracy: 1.0000\n",
      "Epoch 49/50\n",
      "3/3 [==============================] - 0s 5ms/step - loss: 0.0892 - accuracy: 1.0000\n",
      "Epoch 50/50\n",
      "3/3 [==============================] - 0s 8ms/step - loss: 0.0907 - accuracy: 1.0000\n"
     ]
    },
    {
     "data": {
      "text/plain": [
       "<keras.callbacks.History at 0x2b8143910>"
      ]
     },
     "execution_count": 125,
     "metadata": {},
     "output_type": "execute_result"
    }
   ],
   "source": [
    "model = Sequential([\n",
    "    Dense(1022, activation='relu'),\n",
    "    Dropout(0.3),\n",
    "    Dense(150, activation='relu'),\n",
    "    Dropout(0.2),\n",
    "    Dense(150, activation='relu'),\n",
    "    Dropout(0.2),\n",
    "    Dense(1, activation='sigmoid')\n",
    "])\n",
    "\n",
    "model.compile(loss='binary_crossentropy', optimizer='sgd', metrics=['accuracy'])\n",
    "model.fit(X_train, y_train,epochs=50)\n"
   ]
  },
  {
   "cell_type": "code",
   "execution_count": 127,
   "metadata": {},
   "outputs": [
    {
     "name": "stdout",
     "output_type": "stream",
     "text": [
      "1/1 [==============================] - 0s 14ms/step\n",
      "0.8\n"
     ]
    }
   ],
   "source": [
    "import numpy as np\n",
    "\n",
    "y_pred = model.predict(X_test)\n",
    "\n",
    "\n",
    "\n",
    "\n",
    "from sklearn.metrics import accuracy_score\n",
    "\n",
    "print(accuracy_score(y_test, np.rint(y_pred)))\n"
   ]
  }
 ],
 "metadata": {
  "kernelspec": {
   "display_name": "deep",
   "language": "python",
   "name": "python3"
  },
  "language_info": {
   "codemirror_mode": {
    "name": "ipython",
    "version": 3
   },
   "file_extension": ".py",
   "mimetype": "text/x-python",
   "name": "python",
   "nbconvert_exporter": "python",
   "pygments_lexer": "ipython3",
   "version": "3.11.3"
  },
  "orig_nbformat": 4
 },
 "nbformat": 4,
 "nbformat_minor": 2
}
